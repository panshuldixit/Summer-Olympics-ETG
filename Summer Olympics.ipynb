{
  "nbformat": 4,
  "nbformat_minor": 0,
  "metadata": {
    "colab": {
      "name": "Copy of Summer Olympics.ipynb",
      "provenance": [],
      "collapsed_sections": [
        "5gseIHtuQznX",
        "gL2JraFaAUWp",
        "g-Ja5osaAeDC",
        "Kn4WniAwAlHx",
        "JJYy7C3UApNI",
        "KVXLu_EEAzdg",
        "qltKp0LpA6M5",
        "leSgvW1BBCpM"
      ]
    },
    "kernelspec": {
      "name": "python3",
      "display_name": "Python 3"
    },
    "language_info": {
      "name": "python"
    }
  },
  "cells": [
    {
      "cell_type": "markdown",
      "metadata": {
        "id": "8Rd_ohbT__sD"
      },
      "source": [
        "# **Summer Olympics Data Analysis Assignment**"
      ]
    },
    {
      "cell_type": "markdown",
      "metadata": {
        "id": "aMeFUpVTBm6U"
      },
      "source": [
        "###Importing necessary packages for the assignment :)"
      ]
    },
    {
      "cell_type": "code",
      "metadata": {
        "id": "R8ciyUyPAAyS"
      },
      "source": [
        "import pandas as pd\n",
        "import numpy as np\n",
        "import matplotlib.pyplot as plt\n",
        "import warnings\n",
        "warnings.filterwarnings('ignore') #Just to hide warnings if any."
      ],
      "execution_count": 3,
      "outputs": []
    },
    {
      "cell_type": "markdown",
      "metadata": {
        "id": "5gseIHtuQznX"
      },
      "source": [
        "###Reading summer.csv file"
      ]
    },
    {
      "cell_type": "code",
      "metadata": {
        "id": "WMl10n4KADh0"
      },
      "source": [
        "olympics = pd.read_csv(\"summer.csv\")"
      ],
      "execution_count": 4,
      "outputs": []
    },
    {
      "cell_type": "markdown",
      "metadata": {
        "id": "gL2JraFaAUWp"
      },
      "source": [
        "### 1. In how many cities Summer Olympics is held so far?"
      ]
    },
    {
      "cell_type": "markdown",
      "metadata": {
        "id": "ibD1qn9QCHfu"
      },
      "source": [
        "Ans: In **22** cities Summer Olympics is held so far "
      ]
    },
    {
      "cell_type": "markdown",
      "metadata": {
        "id": "o1_YD0L5CUuX"
      },
      "source": [
        "**Code:**"
      ]
    },
    {
      "cell_type": "code",
      "metadata": {
        "colab": {
          "base_uri": "https://localhost:8080/"
        },
        "id": "LhQTXiufADoy",
        "outputId": "90ce8c73-9881-42b3-d1db-43022fc73f64"
      },
      "source": [
        "print(\"Number of cities Summer Olympics is held so far is: \" ,len(olympics['City'].unique()))"
      ],
      "execution_count": 5,
      "outputs": [
        {
          "output_type": "stream",
          "name": "stdout",
          "text": [
            "Number of cities Summer Olympics is held so far is:  22\n"
          ]
        }
      ]
    },
    {
      "cell_type": "markdown",
      "metadata": {
        "id": "g-Ja5osaAeDC"
      },
      "source": [
        "### 2. Which sport is having most number of Gold Medals so far? (Top 5)"
      ]
    },
    {
      "cell_type": "markdown",
      "metadata": {
        "id": "hhbvWwMCEQbw"
      },
      "source": [
        "Ans: Top 5 sports having most number of Gold Medals are:\n",
        "      1) **Aquatics**\n",
        "      2) **Athletics**\n",
        "      3) **Rowing**\n",
        "      4) **Gymnastics**\n",
        "      5) **Fencing**"
      ]
    },
    {
      "cell_type": "markdown",
      "metadata": {
        "id": "fRcxzKI7E2CO"
      },
      "source": [
        "**Code:**"
      ]
    },
    {
      "cell_type": "code",
      "metadata": {
        "id": "GbFhYEmjADsZ",
        "colab": {
          "base_uri": "https://localhost:8080/",
          "height": 0
        },
        "outputId": "7fcc03af-a5e6-438a-9b0e-f26aee88eaa3"
      },
      "source": [
        "gold_medal = olympics[olympics['Medal'] == 'Gold']\n",
        "gold_medal = gold_medal.groupby('Sport').count()['Medal'].sort_values(ascending = False).head(5)\n",
        "print(\"Top 5 Sports having most number of Gold Medals are:\\n\",gold_medal,\"\\n\\nTheir bar graph will be\\n\")\n",
        "gold_medal.plot.bar(figsize =(14,7))"
      ],
      "execution_count": 6,
      "outputs": [
        {
          "output_type": "stream",
          "name": "stdout",
          "text": [
            "Top 5 Sports having most number of Gold Medals are:\n",
            " Sport\n",
            "Aquatics      1421\n",
            "Athletics     1215\n",
            "Rowing         890\n",
            "Gymnastics     820\n",
            "Fencing        552\n",
            "Name: Medal, dtype: int64 \n",
            "\n",
            "Their bar graph will be\n",
            "\n"
          ]
        },
        {
          "output_type": "execute_result",
          "data": {
            "text/plain": [
              "<matplotlib.axes._subplots.AxesSubplot at 0x7f6ff9af0850>"
            ]
          },
          "metadata": {},
          "execution_count": 6
        },
        {
          "output_type": "display_data",
          "data": {
            "image/png": "[encoded data removed]",
            "text/plain": [
              "<Figure size 1008x504 with 1 Axes>"
            ]
          },
          "metadata": {
            "needs_background": "light"
          }
        }
      ]
    },
    {
      "cell_type": "markdown",
      "metadata": {
        "id": "Kn4WniAwAlHx"
      },
      "source": [
        "### 3. Which sport is having most number of medals so far? (Top 5)"
      ]
    },
    {
      "cell_type": "markdown",
      "metadata": {
        "id": "FQWSLiIRG07G"
      },
      "source": [
        "Ans: **Aquatics** is the sport with most number of Medals"
      ]
    },
    {
      "cell_type": "markdown",
      "metadata": {
        "id": "Zwxwgx34G-ht"
      },
      "source": [
        "**Code:**"
      ]
    },
    {
      "cell_type": "code",
      "metadata": {
        "id": "3egP5bHHADwC",
        "colab": {
          "base_uri": "https://localhost:8080/",
          "height": 702
        },
        "outputId": "54d84142-bb69-41c7-95fd-07675625a3c6"
      },
      "source": [
        "sports =olympics.groupby('Sport').count()['Medal'].sort_values(ascending = False).head(5)\n",
        "print(\"Top 5 Sports having most number of Medals are:\\n\",sports,\"\\n\\nTheir bar graph will be\\n\")\n",
        "sports.plot.bar(figsize=(14, 7))\n"
      ],
      "execution_count": 7,
      "outputs": [
        {
          "output_type": "stream",
          "name": "stdout",
          "text": [
            "Top 5 Sports having most number of Medals are:\n",
            " Sport\n",
            "Aquatics      4170\n",
            "Athletics     3638\n",
            "Rowing        2667\n",
            "Gymnastics    2307\n",
            "Fencing       1613\n",
            "Name: Medal, dtype: int64 \n",
            "\n",
            "Their bar graph will be\n",
            "\n"
          ]
        },
        {
          "output_type": "execute_result",
          "data": {
            "text/plain": [
              "<matplotlib.axes._subplots.AxesSubplot at 0x7f6ff9aa1290>"
            ]
          },
          "metadata": {},
          "execution_count": 7
        },
        {
          "output_type": "display_data",
          "data": {
            "image/png": "[encoded data removed]",
            "text/plain": [
              "<Figure size 1008x504 with 1 Axes>"
            ]
          },
          "metadata": {
            "needs_background": "light"
          }
        }
      ]
    },
    {
      "cell_type": "markdown",
      "metadata": {
        "id": "JJYy7C3UApNI"
      },
      "source": [
        "### 4. Which player has won most number of medals? (Top 5)"
      ]
    },
    {
      "cell_type": "markdown",
      "metadata": {
        "id": "gOC1MNZ9IP-h"
      },
      "source": [
        "Ans: **PHELPS, Michael** is the player who has won most number of Medals"
      ]
    },
    {
      "cell_type": "markdown",
      "metadata": {
        "id": "yUZdc-JeIPuO"
      },
      "source": [
        "**Code:**"
      ]
    },
    {
      "cell_type": "code",
      "metadata": {
        "colab": {
          "base_uri": "https://localhost:8080/",
          "height": 0
        },
        "id": "cTGuWfsTADy-",
        "outputId": "e2229bd4-7915-4e34-f02a-b1dbc08b5437"
      },
      "source": [
        "players = olympics.groupby('Athlete').count()['Medal'].sort_values(ascending=False).head(5)\n",
        "print(\"Top 5 players having most number of medals are:\\n\",players,\"\\n\\nTheir bar graph will be\\n\")\n",
        "players.plot.bar(figsize= (14,7))"
      ],
      "execution_count": 8,
      "outputs": [
        {
          "output_type": "stream",
          "name": "stdout",
          "text": [
            "Top 5 players having most number of medals are:\n",
            " Athlete\n",
            "PHELPS, Michael         22\n",
            "LATYNINA, Larisa        18\n",
            "ANDRIANOV, Nikolay      15\n",
            "MANGIAROTTI, Edoardo    13\n",
            "SHAKHLIN, Boris         13\n",
            "Name: Medal, dtype: int64 \n",
            "\n",
            "Their bar graph will be\n",
            "\n"
          ]
        },
        {
          "output_type": "execute_result",
          "data": {
            "text/plain": [
              "<matplotlib.axes._subplots.AxesSubplot at 0x7f6ff951dbd0>"
            ]
          },
          "metadata": {},
          "execution_count": 8
        },
        {
          "output_type": "display_data",
          "data": {
            "image/png": "[encoded data removed]",
            "text/plain": [
              "<Figure size 1008x504 with 1 Axes>"
            ]
          },
          "metadata": {
            "needs_background": "light"
          }
        }
      ]
    },
    {
      "cell_type": "markdown",
      "metadata": {
        "id": "KVXLu_EEAzdg"
      },
      "source": [
        "### 5. Which player has won most number Gold Medals of Medals? (Top 5)\n"
      ]
    },
    {
      "cell_type": "markdown",
      "metadata": {
        "id": "5FLWcfOhKCUf"
      },
      "source": [
        "Ans: **PHELPS, Michael** is the player who has won most number of Gold Medals"
      ]
    },
    {
      "cell_type": "markdown",
      "metadata": {
        "id": "eq3hZzcwJ_ue"
      },
      "source": [
        "**Code:**"
      ]
    },
    {
      "cell_type": "code",
      "metadata": {
        "colab": {
          "base_uri": "https://localhost:8080/",
          "height": 0
        },
        "id": "MOgwwfSBAD6F",
        "outputId": "6a482809-121d-459b-8b4d-99ef8070eb60"
      },
      "source": [
        "player_with_gold_medal=olympics[olympics['Medal']=='Gold']\n",
        "player_with_gold_medal=player_with_gold_medal.groupby('Athlete').count()['Medal'].sort_values(ascending=False).head(5)\n",
        "print(\"Top 5 players having most number of Gold Medals are:\\n\",player_with_gold_medal,\"\\n\\nTheir bar graph will be\\n\")\n",
        "player_with_gold_medal.plot.bar(figsize=(14,7))\n"
      ],
      "execution_count": 9,
      "outputs": [
        {
          "output_type": "stream",
          "name": "stdout",
          "text": [
            "Top 5 players having most number of Gold Medals are:\n",
            " Athlete\n",
            "PHELPS, Michael     18\n",
            "NURMI, Paavo         9\n",
            "SPITZ, Mark          9\n",
            "LEWIS, Carl          9\n",
            "LATYNINA, Larisa     9\n",
            "Name: Medal, dtype: int64 \n",
            "\n",
            "Their bar graph will be\n",
            "\n"
          ]
        },
        {
          "output_type": "execute_result",
          "data": {
            "text/plain": [
              "<matplotlib.axes._subplots.AxesSubplot at 0x7f6ff949b090>"
            ]
          },
          "metadata": {},
          "execution_count": 9
        },
        {
          "output_type": "display_data",
          "data": {
            "image/png": "[encoded data removed]",
            "text/plain": [
              "<Figure size 1008x504 with 1 Axes>"
            ]
          },
          "metadata": {
            "needs_background": "light"
          }
        }
      ]
    },
    {
      "cell_type": "markdown",
      "metadata": {
        "id": "qltKp0LpA6M5"
      },
      "source": [
        "### 6. In which year India won first Gold Medal in Summer Olympics?"
      ]
    },
    {
      "cell_type": "markdown",
      "metadata": {
        "id": "MNbSh6VyKrB-"
      },
      "source": [
        "Ans: In **1928** India won the first gold medal in the Summer Olympics"
      ]
    },
    {
      "cell_type": "markdown",
      "metadata": {
        "id": "JcVUELx2K2n1"
      },
      "source": [
        "**Code:**"
      ]
    },
    {
      "cell_type": "code",
      "metadata": {
        "colab": {
          "base_uri": "https://localhost:8080/"
        },
        "id": "Jrydz8y-AEAQ",
        "outputId": "712943f6-ae92-485a-d51d-d09ec8accbe3"
      },
      "source": [
        "gold_medal=olympics[olympics['Medal']=='Gold']\n",
        "years_of_gold=gold_medal.sort_values(['Year'],ascending=True)\n",
        "result=years_of_gold[years_of_gold['Country']=='IND'].iloc[0]\n",
        "print(\"India won the first Gold Medal in the Summer Olympics in the year: \",result['Year'] ,\"\\n\")"
      ],
      "execution_count": 10,
      "outputs": [
        {
          "output_type": "stream",
          "name": "stdout",
          "text": [
            "India won the first Gold Medal in the Summer Olympics in the year:  1928 \n",
            "\n"
          ]
        }
      ]
    },
    {
      "cell_type": "markdown",
      "metadata": {
        "id": "leSgvW1BBCpM"
      },
      "source": [
        "### 7. Which event is most popular in terms of number of players? (Top 5)"
      ]
    },
    {
      "cell_type": "markdown",
      "metadata": {
        "id": "UBmzD0PLNLkH"
      },
      "source": [
        "Ans: **Football** is the most popular event in terms of number of Players"
      ]
    },
    {
      "cell_type": "markdown",
      "metadata": {
        "id": "bUW1kl3SNa1w"
      },
      "source": [
        "**Code:**"
      ]
    },
    {
      "cell_type": "code",
      "metadata": {
        "colab": {
          "base_uri": "https://localhost:8080/",
          "height": 0
        },
        "id": "TRXXnn1HAEF-",
        "outputId": "a90028ff-c774-47aa-db3d-6e95b735f417"
      },
      "source": [
        "popular_event = olympics.groupby('Event').count()['Athlete'].sort_values(ascending=False).head(5)\n",
        "print(\"Top 5 event having most number of Players are:\\n\",popular_event,\"\\n\\nTheir bar graph will be\\n\")\n",
        "popular_event.plot.bar(figsize = (14,7))"
      ],
      "execution_count": 11,
      "outputs": [
        {
          "output_type": "stream",
          "name": "stdout",
          "text": [
            "Top 5 event having most number of Players are:\n",
            " Event\n",
            "Football            1497\n",
            "Hockey              1422\n",
            "Team Competition    1147\n",
            "Basketball          1012\n",
            "Handball             973\n",
            "Name: Athlete, dtype: int64 \n",
            "\n",
            "Their bar graph will be\n",
            "\n"
          ]
        },
        {
          "output_type": "execute_result",
          "data": {
            "text/plain": [
              "<matplotlib.axes._subplots.AxesSubplot at 0x7f6ff940b6d0>"
            ]
          },
          "metadata": {},
          "execution_count": 11
        },
        {
          "output_type": "display_data",
          "data": {
            "image/png": "[encoded data removed]",
            "text/plain": [
              "<Figure size 1008x504 with 1 Axes>"
            ]
          },
          "metadata": {
            "needs_background": "light"
          }
        }
      ]
    },
    {
      "cell_type": "markdown",
      "metadata": {
        "id": "smmgsZIQBLZN"
      },
      "source": [
        "### 8. Which sport is having most female Gold Medalists? (Top 5)"
      ]
    },
    {
      "cell_type": "markdown",
      "metadata": {
        "id": "ri0oPLKKOuu_"
      },
      "source": [
        "Ans: **Aquatics** is the sport having most female Gold Medalists."
      ]
    },
    {
      "cell_type": "markdown",
      "metadata": {
        "id": "uAO_MkgAO-ln"
      },
      "source": [
        "**Code:**"
      ]
    },
    {
      "cell_type": "code",
      "metadata": {
        "colab": {
          "base_uri": "https://localhost:8080/",
          "height": 0
        },
        "id": "ySKpAHDzBNbK",
        "outputId": "fbaafcc4-cbfd-4c63-acdf-837aa4631093"
      },
      "source": [
        "player_with_gold_medal=olympics[olympics['Medal']=='Gold']\n",
        "female_player_with_gold=player_with_gold_medal[olympics['Gender']=='Women']\n",
        "female_player_with_gold=female_player_with_gold.groupby('Sport').count()['Medal'].sort_values(ascending=False).head(5)\n",
        "print(\"Top 5 sport having most female Gold Medalists are:\\n\",female_player_with_gold,\"\\n\\nTheir bar graph will be\\n\")\n",
        "female_player_with_gold.plot.bar(figsize=(14,7))"
      ],
      "execution_count": 12,
      "outputs": [
        {
          "output_type": "stream",
          "name": "stdout",
          "text": [
            "Top 5 sport having most female Gold Medalists are:\n",
            " Sport\n",
            "Aquatics      589\n",
            "Athletics     389\n",
            "Gymnastics    268\n",
            "Rowing        217\n",
            "Volleyball    166\n",
            "Name: Medal, dtype: int64 \n",
            "\n",
            "Their bar graph will be\n",
            "\n"
          ]
        },
        {
          "output_type": "execute_result",
          "data": {
            "text/plain": [
              "<matplotlib.axes._subplots.AxesSubplot at 0x7f6ff9387f90>"
            ]
          },
          "metadata": {},
          "execution_count": 12
        },
        {
          "output_type": "display_data",
          "data": {
            "image/png": "[encoded data removed]",
            "text/plain": [
              "<Figure size 1008x504 with 1 Axes>"
            ]
          },
          "metadata": {
            "needs_background": "light"
          }
        }
      ]
    }
  ]
}